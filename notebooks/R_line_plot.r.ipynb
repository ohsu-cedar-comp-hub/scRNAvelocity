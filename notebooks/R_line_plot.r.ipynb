{
 "cells": [
  {
   "cell_type": "code",
   "execution_count": 1,
   "metadata": {},
   "outputs": [],
   "source": [
    "is_installed <- function(mypkg){ is.element(mypkg, installed.packages()[,1])}\n",
    "load_or_install<-function(package_names){\n",
    "    r = getOption(\"repos\")\n",
    "    r[\"CRAN\"] = \"http://cran.us.r-project.org\"\n",
    "    options(repos = r)\n",
    "    #https://www.r-bloggers.com/2012/05/loading-andor-installing-packages-programmatically/\n",
    "    #quick install or load packages\n",
    "  for(package_name in package_names)\n",
    "  {\n",
    "    if(!is_installed(package_name))\n",
    "    {\n",
    "       message(sprintf(\"installing package: %s\",package_name))\n",
    "       install.packages(package_name,repos = \"http://cran.us.r-project.org\")\n",
    "    }\n",
    "    else{\n",
    "        message(sprintf(\"loading package: %s\",package_name))\n",
    "        library(package_name,character.only=TRUE,quietly=TRUE,verbose=FALSE)\n",
    "    }\n",
    "  }\n",
    "}"
   ]
  },
  {
   "cell_type": "code",
   "execution_count": 2,
   "metadata": {},
   "outputs": [
    {
     "name": "stderr",
     "output_type": "stream",
     "text": [
      "loading package: DT\n",
      "\n",
      "loading package: grid\n",
      "\n",
      "loading package: plyr\n",
      "\n",
      "loading package: dplyr\n",
      "\n",
      "\n",
      "Attaching package: ‘dplyr’\n",
      "\n",
      "\n",
      "The following objects are masked from ‘package:plyr’:\n",
      "\n",
      "    arrange, count, desc, failwith, id, mutate, rename, summarise,\n",
      "    summarize\n",
      "\n",
      "\n",
      "The following objects are masked from ‘package:stats’:\n",
      "\n",
      "    filter, lag\n",
      "\n",
      "\n",
      "The following objects are masked from ‘package:base’:\n",
      "\n",
      "    intersect, setdiff, setequal, union\n",
      "\n",
      "\n",
      "loading package: ggplot2\n",
      "\n",
      "loading package: plotly\n",
      "\n",
      "\n",
      "Attaching package: ‘plotly’\n",
      "\n",
      "\n",
      "The following object is masked from ‘package:ggplot2’:\n",
      "\n",
      "    last_plot\n",
      "\n",
      "\n",
      "The following objects are masked from ‘package:plyr’:\n",
      "\n",
      "    arrange, mutate, rename, summarise\n",
      "\n",
      "\n",
      "The following object is masked from ‘package:stats’:\n",
      "\n",
      "    filter\n",
      "\n",
      "\n",
      "The following object is masked from ‘package:graphics’:\n",
      "\n",
      "    layout\n",
      "\n",
      "\n",
      "loading package: knitr\n",
      "\n",
      "loading package: future\n",
      "\n",
      "loading package: patchwork\n",
      "\n",
      "loading package: gridExtra\n",
      "\n",
      "\n",
      "Attaching package: ‘gridExtra’\n",
      "\n",
      "\n",
      "The following object is masked from ‘package:dplyr’:\n",
      "\n",
      "    combine\n",
      "\n",
      "\n",
      "loading package: RColorBrewer\n",
      "\n",
      "loading package: data.table\n",
      "\n",
      "\n",
      "Attaching package: ‘data.table’\n",
      "\n",
      "\n",
      "The following objects are masked from ‘package:dplyr’:\n",
      "\n",
      "    between, first, last\n",
      "\n",
      "\n",
      "loading package: extrafont\n",
      "\n",
      "Registering fonts with R\n",
      "\n"
     ]
    }
   ],
   "source": [
    "\n",
    "load_or_install(c(\"DT\",\"grid\",\"plyr\",\"dplyr\",\"ggplot2\",\"plotly\",\"knitr\",\"future\",\"patchwork\",\"gridExtra\",\"RColorBrewer\",\"data.table\",\"extrafont\"))"
   ]
  },
  {
   "cell_type": "code",
   "execution_count": null,
   "metadata": {},
   "outputs": [],
   "source": [
    "# snakemake params\n",
    "\n",
    "color_names = snakemake@params['color_names']\n",
    "color_hex = snakemake@params['color_hex']\n",
    "clusters_of_interest = snakemake@params['clusters_of_interest']\n",
    "out_file = snakemake@output['output_file']\n",
    "input_file = snakemake@input['input_tsv']\n",
    "color_tsv = snakemake@input['color_tsv']\n",
    "\n"
   ]
  },
  {
   "cell_type": "markdown",
   "metadata": {},
   "source": [
    "# Load data"
   ]
  },
  {
   "cell_type": "code",
   "execution_count": null,
   "metadata": {},
   "outputs": [],
   "source": [
    "data_f  = read.delim(file.path(getwd(),input_file), sep = \"\\t\")#, fileEncoding = 'utf-8')\n",
    "\n",
    "plot.meta = data.table(data_f)"
   ]
  },
  {
   "cell_type": "code",
   "execution_count": null,
   "metadata": {},
   "outputs": [],
   "source": [
    "#get updated color palette\n",
    "# this is due to colors being similar\n",
    "color_tsv = file.path(getwd(),color_tsv)\n",
    "color_tsv_file = read.delim(color_tsv)"
   ]
  },
  {
   "cell_type": "code",
   "execution_count": 5,
   "metadata": {},
   "outputs": [],
   "source": [
    "#color palettes\n",
    "cluster_colors = unlist(color_tsv_file[1,-1])\n",
    "names(cluster_colors) = gsub(\"\\\\.\",\"-\",names(cluster_colors))\n",
    "names(cluster_colors) = gsub(\"-Eryth\",\" Eryth\",names(cluster_colors))\n"
   ]
  },
  {
   "cell_type": "code",
   "execution_count": null,
   "metadata": {},
   "outputs": [],
   "source": [
    "#get valid colors\n",
    "color_names <- unlist(color_names)\n",
    "color_hex <- unlist(color_hex)\n",
    "\n",
    "names(color_hex) <- color_names"
   ]
  },
  {
   "cell_type": "code",
   "execution_count": null,
   "metadata": {},
   "outputs": [],
   "source": [
    "clusters_of_interest <- unlist(clusters_of_interest)"
   ]
  },
  {
   "cell_type": "code",
   "execution_count": 20,
   "metadata": {},
   "outputs": [],
   "source": [
    "data_f  = read.delim(\"/home/groups/CEDAR/enright/Runx_AML/submission_pipeline/scRNAvelocity/results/v3.unenriched/scvelo_obs.tsv\", sep = \"\\t\")#, fileEncoding = 'utf-8')\n",
    "\n",
    "plot.meta = data.table(data_f)"
   ]
  },
  {
   "cell_type": "code",
   "execution_count": 21,
   "metadata": {},
   "outputs": [],
   "source": [
    "#override clusters of interest\n",
    "clusters_of_interest <- c(\"HCA\",\"Progenitor\",\"GMP\",\"MKP\",\"Mono\")"
   ]
  },
  {
   "cell_type": "markdown",
   "metadata": {},
   "source": [
    "# Process Table"
   ]
  },
  {
   "cell_type": "code",
   "execution_count": 22,
   "metadata": {},
   "outputs": [],
   "source": [
    "process_table <- function(plot.meta,pseudotime = 'dpt_pseudotime',clusters_of_interest = NULL,b_scale = 1,binwidth = 0.02, alpha_var = 1){\n",
    "    #takes a data table\n",
    "    #returns a table to be saved\n",
    "    \n",
    "    set(plot.meta,j = 'pseudotime',value = plot.meta[[pseudotime]])\n",
    "    \n",
    "    #use all clusters if clusters of interest is null\n",
    "    if (is.null(clusters_of_interest)){\n",
    "        clusters_of_interest <- unique(plot.meta$clusters)\n",
    "    }\n",
    "    \n",
    "    #subset\n",
    "    myplotmeta = plot.meta[clusters %in% clusters_of_interest,]\n",
    "    #get bins for the pseudotime\n",
    "    myplotmeta[, ps.bin := ((findInterval(pseudotime*b_scale, seq(0, 1, by = binwidth))-1)*binwidth)]\n",
    "    #calculate total number of cells per Condition\n",
    "    summarycount <- plot.meta[, .N, by = .(Condition)]\n",
    "    #rename for next step\n",
    "    colnames(summarycount)[colnames(summarycount) == \"N\"] = \"N.Condition\"\n",
    "    #get percentage of number of cells across pseudotime\n",
    "    meta_bin <- myplotmeta[, .N, by = .(ps.bin, Condition)]\n",
    "    meta_bin <- merge(x = meta_bin, y = summarycount, by = \"Condition\") #adds number of cells per condition column to metabin\n",
    "    meta_bin <- meta_bin[, pct_condition := N/N.Condition*100][order(ps.bin)]\n",
    "    return(meta_bin)\n",
    "}    "
   ]
  },
  {
   "cell_type": "markdown",
   "metadata": {},
   "source": [
    "# Line plot: percent of total cells across pseudotime "
   ]
  },
  {
   "cell_type": "code",
   "execution_count": 12,
   "metadata": {},
   "outputs": [],
   "source": [
    "# change font type\n",
    "dev.new(family = \"Arial\")"
   ]
  },
  {
   "cell_type": "code",
   "execution_count": 1,
   "metadata": {},
   "outputs": [],
   "source": [
    "#function to perform plotting\n",
    "#plot.meta is a data table with at least three columns for each cell: 'pseudotime',Condition,clusters\n",
    "plot_pseudotime <- function(plot.meta,pseudotime = 'dpt_pseudotime',x_lab = \"Diffusion Pseudotime\",y_lab=\"% of Total Cells\",title_name = \"\" ,clusters_of_interest = NULL,color_hex = NULL,cluster_colors = NULL,b_scale = 1,binwidth = 0.02, alpha_var = 1,save_file = NULL){\n",
    "    #takes a data table\n",
    "    #returns a plot or saves a plot if 'save_file' is a path to a file and not null\n",
    "    \n",
    "    #alpha_var for color opacity\n",
    "    #add pseudotime to table based on the user defined pseudotime of interest\n",
    "    #default is 'dpt_pseudotime'\n",
    "    set(plot.meta,j = 'pseudotime',value = plot.meta[[pseudotime]])\n",
    "    \n",
    "    #use all clusters if clusters of interest is null\n",
    "    if (is.null(clusters_of_interest)){\n",
    "        clusters_of_interest <- unique(plot.meta$clusters)\n",
    "    }\n",
    "    #correct colors for condition if there is no input\n",
    "    if (is.null(color_hex)){\n",
    "        \n",
    "        color_names = unique(plot.meta$Condition)\n",
    "        color_hex <- brewer.pal(max(3,length(color_names)),\"Dark2\")\n",
    "        color_hex <- color_hex[seq(length(color_names))]\n",
    "        names(color_hex) <- color_names\n",
    "    }\n",
    "    \n",
    "    #subset\n",
    "    myplotmeta = plot.meta[clusters %in% clusters_of_interest,]\n",
    "    #correct colors for clusters if no cluster colors given\n",
    "    if (is.null(cluster_colors)){\n",
    "        \n",
    "        cluster_names = unique(myplotmeta$clusters)\n",
    "        cluster_colors <- brewer.pal(length(unique(cluster_names)),\"Set3\")\n",
    "        names(cluster_colors) <- cluster_names\n",
    "    }\n",
    "    #get bins for the pseudotime\n",
    "    myplotmeta[, ps.bin := ((findInterval(pseudotime*b_scale, seq(0, 1, by = binwidth))-1)*binwidth)]\n",
    "    #calculate total number of cells per Condition\n",
    "    summarycount <- plot.meta[, .N, by = .(Condition)]\n",
    "    #rename for next step\n",
    "    colnames(summarycount)[colnames(summarycount) == \"N\"] = \"N.Condition\"\n",
    "    #get percentage of number of cells across pseudotime\n",
    "    meta_bin <- myplotmeta[, .N, by = .(ps.bin, Condition)]\n",
    "    meta_bin <- merge(x = meta_bin, y = summarycount, by = \"Condition\")\n",
    "    meta_bin <- meta_bin[, pct_condition := N/N.Condition*100][order(ps.bin)]\n",
    "    \n",
    "    xlim <- c(0, ceiling(max(myplotmeta$pseudotime)))\n",
    "    ylim <- c(0, ceiling(max(meta_bin$pct_condition))+2)\n",
    "    mar_offset = c(-1.5, 2.,-3,4)\n",
    "    par(mar = c(5.1, 4.1, 6.1, 2.1) + mar_offset)\n",
    "    if (!is.null(save_file)){\n",
    "        pdf(save_file)\n",
    "    }\n",
    "    pplot <- plot(NULL, xlab = \"\", ylab = \"\", xlim = xlim, ylim = ylim, las = 1, yaxt = \"n\",main = title_name)\n",
    "\n",
    "    mtext(bquote(bold(.(y_lab))), side = 2, line = 3, at = floor(max(ylim)/2), cex = 1.2)\n",
    "    mtext(bquote(bold(.(x_lab))), side = 1, line = 2.5, cex = 1.2)\n",
    "    abline(h=0)\n",
    "    #abline(h=seq(0.5, max(ylim), 0.5), col = \"lightgrey\") #grey lines every 0.5 along the yaxis\n",
    "    axis(2, at = seq(0,floor(max(ylim)),by = 1), labels = seq(0,floor(max(ylim)),by = 1), tick = TRUE, las = TRUE)\n",
    "\n",
    "    # Plot % cells\n",
    "    for (myline in color_names) {\n",
    "          meta_bin[Condition == myline, points(ps.bin, pct_condition, col = alpha(color_hex[[myline]],alpha_var), pch = 20, cex = 1.5)]\n",
    "          meta_bin[Condition == myline, lines(spline(ps.bin, pct_condition, method = \"n\"), col = alpha(color_hex[[myline]],alpha_var), lwd = 2.5)]\n",
    "        }\n",
    "\n",
    "\n",
    "    #Draw Rug of cell type\n",
    "    # done in a way to have the least amount of cells per cluster on top of bigger clusters\n",
    "    for (clustr in rev(names(sort(table(myplotmeta$cluster))))){\n",
    "        myrugmeta <- myplotmeta[cluster == clustr]\n",
    "        myrugmeta[, points(x=pseudotime, y = rep(max(ylim),nrow(myrugmeta)),pch = \"|\",cex =1,col = cluster_colors[[clustr]])]\n",
    "    }\n",
    "    \n",
    "    # Legend for lines & rug\n",
    "    pctLegend <- color_names\n",
    "    legendcolor <- color_hex[color_names]\n",
    "    leg <- legend(\"topright\",inset = c(0.2,0.05),horiz = FALSE, legend = pctLegend, col = legendcolor, lwd = 2.5, cex = 1.2, bty = \"n\", plot = T)\n",
    "    pctLegend <- clusters_of_interest\n",
    "    legendcolor <- unname(cluster_colors[clusters_of_interest])\n",
    "    legend(x = leg$rect$left, y = leg$rect$top - leg$rect$h,horiz = FALSE, legend = pctLegend, col = legendcolor, pch = 15, cex = 1.2, bty = \"n\", plot = T)\n",
    "    if (!is.null(save_file)){\n",
    "        dev.off()\n",
    "    }\n",
    "    else{\n",
    "        return(pplot)\n",
    "    }\n",
    "}"
   ]
  },
  {
   "cell_type": "markdown",
   "metadata": {},
   "source": [
    "### Save plots for various of pseudotime approaches"
   ]
  },
  {
   "cell_type": "code",
   "execution_count": null,
   "metadata": {},
   "outputs": [],
   "source": [
    "pseudotime <- 'dpt_pseudotime'\n",
    "plot_dpt <- file.path(getwd(),out_file)\n",
    "plot_pseudotime(plot.meta,pseudotime = pseudotime, x_lab = \"Diffusion Pseudotime\",title_name = '',clusters_of_interest = clusters_of_interest,color_hex = color_hex,cluster_colors = cluster_colors,b_scale = 1,binwidth = 0.02, save_file = plot_dpt)"
   ]
  },
  {
   "cell_type": "code",
   "execution_count": null,
   "metadata": {},
   "outputs": [],
   "source": [
    "#save table\n",
    "df_table <- process_table(plot.meta,pseudotime = pseudotime,clusters_of_interest = clusters_of_interest,b_scale = 1,binwidth = 0.02)\n",
    "out_table <- file.path(dirname(plot_dpt),sprintf(\"pseudotime_%s_table.tsv\",pseudotime))\n",
    "write.table(df_table,file = out_table, quote = FALSE, sep = \"\\t\")"
   ]
  },
  {
   "cell_type": "code",
   "execution_count": null,
   "metadata": {},
   "outputs": [],
   "source": [
    "pseudotime <- 'latent_time'\n",
    "plot_dpt <- dirname(file.path(getwd(),out_file))\n",
    "plot_dpt <- file.path(plot_dpt,sprintf(\"pseudotime_%s_r.pdf\",pseudotime))\n",
    "plot_pseudotime(plot.meta,pseudotime = pseudotime, x_lab = \"Latent Time\",title_name = '',clusters_of_interest = clusters_of_interest,color_hex = color_hex,cluster_colors = cluster_colors,b_scale = 1,binwidth = 0.02, save_file = plot_dpt)"
   ]
  },
  {
   "cell_type": "code",
   "execution_count": null,
   "metadata": {},
   "outputs": [],
   "source": [
    "#save table\n",
    "df_table <- process_table(plot.meta,pseudotime = pseudotime,clusters_of_interest = clusters_of_interest,b_scale = 1,binwidth = 0.02)\n",
    "out_table <- file.path(dirname(plot_dpt),sprintf(\"pseudotime_%s_table.tsv\",pseudotime))\n",
    "write.table(df_table,file = out_table, quote = FALSE, sep = \"\\t\")"
   ]
  },
  {
   "cell_type": "code",
   "execution_count": null,
   "metadata": {},
   "outputs": [],
   "source": [
    "pseudotime <- 'velocity_pseudotime'\n",
    "plot_dpt <- dirname(file.path(getwd(),out_file))\n",
    "plot_dpt <- file.path(plot_dpt,sprintf(\"pseudotime_%s_r.pdf\",pseudotime))\n",
    "plot_pseudotime(plot.meta,pseudotime = pseudotime, x_lab = \"Velocity Pseudotime\",title_name = '',clusters_of_interest = clusters_of_interest,color_hex = color_hex,cluster_colors = cluster_colors,b_scale = 1,binwidth = 0.02, save_file = plot_dpt)"
   ]
  },
  {
   "cell_type": "code",
   "execution_count": null,
   "metadata": {},
   "outputs": [],
   "source": [
    "#save table\n",
    "df_table <- process_table(plot.meta,pseudotime = pseudotime,clusters_of_interest = clusters_of_interest,b_scale = 1,binwidth = 0.02)\n",
    "out_table <- file.path(dirname(plot_dpt),sprintf(\"pseudotime_%s_table.tsv\",pseudotime))\n",
    "write.table(df_table,file = out_table, quote = FALSE, sep = \"\\t\")"
   ]
  },
  {
   "cell_type": "markdown",
   "metadata": {},
   "source": [
    "#### session info"
   ]
  },
  {
   "cell_type": "code",
   "execution_count": null,
   "metadata": {},
   "outputs": [],
   "source": []
  },
  {
   "cell_type": "code",
   "execution_count": 109,
   "metadata": {},
   "outputs": [
    {
     "data": {
      "text/plain": [
       "R version 4.0.3 (2020-10-10)\n",
       "Platform: x86_64-conda-linux-gnu (64-bit)\n",
       "Running under: CentOS Linux 7 (Core)\n",
       "\n",
       "Matrix products: default\n",
       "BLAS/LAPACK: /home/groups/precepts/enright/miniconda3/envs/seurat_note/lib/libmkl_rt.so\n",
       "\n",
       "locale:\n",
       " [1] LC_CTYPE=en_US.UTF-8       LC_NUMERIC=C              \n",
       " [3] LC_TIME=en_US.UTF-8        LC_COLLATE=en_US.UTF-8    \n",
       " [5] LC_MONETARY=en_US.UTF-8    LC_MESSAGES=en_US.UTF-8   \n",
       " [7] LC_PAPER=en_US.UTF-8       LC_NAME=C                 \n",
       " [9] LC_ADDRESS=C               LC_TELEPHONE=C            \n",
       "[11] LC_MEASUREMENT=en_US.UTF-8 LC_IDENTIFICATION=C       \n",
       "\n",
       "attached base packages:\n",
       "[1] grid      stats     graphics  grDevices utils     datasets  methods  \n",
       "[8] base     \n",
       "\n",
       "other attached packages:\n",
       " [1] data.table_1.13.6  gridExtra_2.3      patchwork_1.1.1    future_1.21.0     \n",
       " [5] knitr_1.31         plotly_4.9.3       ggplot2_3.3.3      dplyr_1.0.6       \n",
       " [9] plyr_1.8.6         DT_0.17            SeuratObject_4.0.0 Seurat_4.0.0      \n",
       "\n",
       "loaded via a namespace (and not attached):\n",
       "  [1] nlme_3.1-152         matrixStats_0.58.0   RcppAnnoy_0.0.18    \n",
       "  [4] RColorBrewer_1.1-2   httr_1.4.2           repr_1.1.3          \n",
       "  [7] sctransform_0.3.2    tools_4.0.3          utf8_1.1.4          \n",
       " [10] R6_2.5.0             irlba_2.3.3          rpart_4.1-15        \n",
       " [13] KernSmooth_2.23-18   uwot_0.1.10          mgcv_1.8-33         \n",
       " [16] DBI_1.1.1            lazyeval_0.2.2       colorspace_2.0-0    \n",
       " [19] withr_2.4.1          tidyselect_1.1.0     compiler_4.0.3      \n",
       " [22] scales_1.1.1         spatstat.data_2.0-0  lmtest_0.9-38       \n",
       " [25] ggridges_0.5.3       pbapply_1.4-3        goftest_1.2-2       \n",
       " [28] spatstat_1.64-1      pbdZMQ_0.3-5         stringr_1.4.0       \n",
       " [31] digest_0.6.27        spatstat.utils_2.0-0 base64enc_0.1-3     \n",
       " [34] pkgconfig_2.0.3      htmltools_0.5.1.1    parallelly_1.23.0   \n",
       " [37] fastmap_1.1.0        htmlwidgets_1.5.3    rlang_0.4.10        \n",
       " [40] shiny_1.6.0          farver_2.0.3         generics_0.1.0      \n",
       " [43] zoo_1.8-8            jsonlite_1.7.2       ica_1.0-2           \n",
       " [46] magrittr_2.0.1       Matrix_1.3-2         Rcpp_1.0.6          \n",
       " [49] IRkernel_1.1.1       munsell_0.5.0        fansi_0.4.2         \n",
       " [52] abind_1.4-5          reticulate_1.18      lifecycle_1.0.0     \n",
       " [55] stringi_1.5.3        MASS_7.3-53          Rtsne_0.15          \n",
       " [58] parallel_4.0.3       listenv_0.8.0        promises_1.1.1      \n",
       " [61] ggrepel_0.9.1        crayon_1.4.1         deldir_0.2-9        \n",
       " [64] miniUI_0.1.1.1       lattice_0.20-41      IRdisplay_1.0       \n",
       " [67] cowplot_1.1.1        splines_4.0.3        tensor_1.5          \n",
       " [70] pillar_1.6.1         igraph_1.2.6         uuid_0.1-4          \n",
       " [73] future.apply_1.7.0   reshape2_1.4.4       codetools_0.2-18    \n",
       " [76] leiden_0.3.7         glue_1.4.2           evaluate_0.14       \n",
       " [79] png_0.1-7            vctrs_0.3.8          httpuv_1.5.5        \n",
       " [82] polyclip_1.10-0      gtable_0.3.0         RANN_2.6.1          \n",
       " [85] purrr_0.3.4          tidyr_1.1.3          scattermore_0.7     \n",
       " [88] assertthat_0.2.1     xfun_0.20            mime_0.9            \n",
       " [91] xtable_1.8-4         later_1.1.0.1        survival_3.2-7      \n",
       " [94] viridisLite_0.3.0    tibble_3.1.2         cluster_2.1.0       \n",
       " [97] globals_0.14.0       fitdistrplus_1.1-3   ellipsis_0.3.2      \n",
       "[100] ROCR_1.0-11         "
      ]
     },
     "metadata": {},
     "output_type": "display_data"
    }
   ],
   "source": [
    "sessionInfo()"
   ]
  },
  {
   "cell_type": "code",
   "execution_count": null,
   "metadata": {},
   "outputs": [],
   "source": []
  }
 ],
 "metadata": {
  "kernelspec": {
   "display_name": "R",
   "language": "R",
   "name": "ir"
  },
  "language_info": {
   "codemirror_mode": "r",
   "file_extension": ".r",
   "mimetype": "text/x-r-source",
   "name": "R",
   "pygments_lexer": "r",
   "version": "4.0.3"
  }
 },
 "nbformat": 4,
 "nbformat_minor": 4
}
