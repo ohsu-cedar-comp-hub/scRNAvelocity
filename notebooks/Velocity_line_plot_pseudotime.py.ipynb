{
 "cells": [
  {
   "cell_type": "code",
   "execution_count": 2,
   "metadata": {},
   "outputs": [],
   "source": [
    "import matplotlib.pyplot as plt\n",
    "import numpy as np\n",
    "from sklearn.manifold import TSNE\n",
    "import os\n",
    "import datetime\n",
    "import scvelo as scv\n",
    "import scanpy\n",
    "import sys\n",
    "import pandas as pd\n",
    "from scipy import stats\n",
    "from statannot import add_stat_annotation\n",
    "import statsmodels.api as sm\n",
    "from statsmodels.formula.api import ols\n",
    "from functools import reduce\n",
    "import seaborn as sns\n",
    "import statsmodels.api as sm\n",
    "import itertools\n",
    "import matplotlib.lines as mlines\n",
    "import matplotlib.colors as mc\n"
   ]
  },
  {
   "cell_type": "code",
   "execution_count": 9,
   "metadata": {},
   "outputs": [],
   "source": [
    "\n",
    "# adjust color palette\n",
    "def adjust_lightness(color, amount=0.5):\n",
    "    # used to adjust colors that are too similar to one another\n",
    "    # amount of 1 will not change color\n",
    "    import colorsys\n",
    "    try:\n",
    "        c = mc.cnames[color]\n",
    "    except:\n",
    "        c = color\n",
    "    c = colorsys.rgb_to_hls(*mc.to_rgb(c))\n",
    "    return colorsys.hls_to_rgb(c[0], max(0, min(1, amount * c[1])), c[2])\n",
    "\n"
   ]
  },
  {
   "cell_type": "code",
   "execution_count": null,
   "metadata": {},
   "outputs": [],
   "source": [
    "### load data set \n",
    "#snakemake parameters\n",
    "velocity_adata = snakemake.input.velocity_adata\n",
    "clusters_of_interest = snakemake.params.clusters_of_interest\n",
    "condition = snakemake.params.seurat_status\n",
    "cluster_color_out = snakemake.output.cluster_colors\n",
    "pdf_out = snakemake.output.output_file\n",
    "\n",
    "adata = scv.read(velocity_adata)\n"
   ]
  },
  {
   "cell_type": "code",
   "execution_count": 10,
   "metadata": {},
   "outputs": [],
   "source": [
    "color_dict = adata.uns['Condition_color_dict']\n",
    "Order_plot = list(color_dict.keys())\n",
    "cluster_palette = adata.uns['clusters_colors_dict']"
   ]
  },
  {
   "cell_type": "code",
   "execution_count": 11,
   "metadata": {},
   "outputs": [],
   "source": [
    "\n",
    "darkened_pal = {key:adjust_lightness(value,1) for key,value in cluster_palette.items()}\n",
    "darkened_pal['MKP'] = adjust_lightness(cluster_palette['MKP'],0.7)"
   ]
  },
  {
   "cell_type": "code",
   "execution_count": null,
   "metadata": {},
   "outputs": [],
   "source": [
    "#cluster color MKP for plotting \n",
    "\n",
    "cluster_hex_dict = {key:mc.rgb2hex(value) for key,value in darkened_pal.items()}\n",
    "cluster_color_data = pd.DataFrame.from_dict(cluster_hex_dict, orient = 'index').T\n",
    "#write to tsv with further plotting\n",
    "cluster_color_data.to_csv(cluster_color_out, sep=\"\\t\")"
   ]
  },
  {
   "cell_type": "code",
   "execution_count": null,
   "metadata": {},
   "outputs": [],
   "source": [
    "# set plot style to Arial publication ready\n",
    "sns.set_style('whitegrid', {'font.family':'standard', 'font.serif':'Arial'})\n",
    "\n"
   ]
  },
  {
   "cell_type": "code",
   "execution_count": null,
   "metadata": {},
   "outputs": [],
   "source": [
    "#cluster of interest override\n",
    "clusters_of_interest = clusters_of_interest + [\"Pro-Mono\"]"
   ]
  },
  {
   "cell_type": "markdown",
   "metadata": {},
   "source": [
    "## Lineplot of percentage of cells across pseudotime"
   ]
  },
  {
   "cell_type": "code",
   "execution_count": null,
   "metadata": {},
   "outputs": [],
   "source": [
    "def df_pseudotime(adata,time = 'dpt_pseudotime',n_bins=50,by_cond = 'Condition', val_counts = None):\n",
    "    # creates data frames for each condition that includes percentages of cluster within a given bin across pseudotime\n",
    "    # returns dataframes \n",
    "    ad_obs = adata.obs.copy()\n",
    "    ad_obs.sort_values(by = time, inplace = True)\n",
    "\n",
    "    #get total counts of cells for each Condition for ALL v3 cells\n",
    "    if val_counts is None:\n",
    "        val_counts = ad_obs[by_cond].value_counts()\n",
    "    #bin the pseudotime data into discrete bins\n",
    "    bins = np.linspace(0, 1, n_bins)\n",
    "    binned_pseudo = np.digitize(ad_obs[time],bins)\n",
    "\n",
    "    #get percentage of binned pseudotime in a dataframe for ease of plotting\n",
    "    ad_obs['binned_dpt'] = binned_pseudo\n",
    "    ad_obs['binned_dpt_Condition'] = ad_obs[by_cond].astype(str) + \"_\" + ad_obs['binned_dpt'].astype(str) #[\"{}_{}\".format(cond,ad_obs['binned_dpt'][i]) for i,cond in enumerate(ad_obs[by_cond])]\n",
    "    value_count = pd.DataFrame(ad_obs['binned_dpt_Condition'].value_counts())\n",
    "    value_count[by_cond] = [x.split(\"_\")[0] for x in value_count.index]\n",
    "    value_count['bin'] = [x.split(\"_\")[1] for x in value_count.index]\n",
    "    value_count['total'] = [val_counts[x] for x in value_count[by_cond]]\n",
    "    value_count['percentage'] = (value_count['binned_dpt_Condition']/value_count['total'])*100\n",
    "    value_count[time] = [int(x)/n_bins for x in value_count['bin']]\n",
    "    \n",
    "    #get percentage of binned pseudotime with cluster info\n",
    "    ad_obs['binned_dpt_cluster'] = ad_obs['cluster_cond'].astype(str) + \"_\" + ad_obs['binned_dpt'].astype(str)# [\"{}_{}\".format(cond,ad_obs['binned_dpt'][i]) for i,cond in enumerate(ad_obs['cluster_cond'])]\n",
    "    cluster_count = pd.DataFrame(ad_obs['binned_dpt_cluster'].value_counts())\n",
    "    cluster_count['cluster'] = [x.split(\"_\")[0] for x in cluster_count.index]\n",
    "    cluster_count[by_cond] = [x.split(\"_\")[1] for x in cluster_count.index]\n",
    "    cluster_count['bin'] = [x.split(\"_\")[2] for x in cluster_count.index]\n",
    "    cluster_count['total'] = [val_counts[x] for x in cluster_count[by_cond]]\n",
    "    cluster_count['percentage'] = (cluster_count['binned_dpt_cluster']/cluster_count['total'])*100\n",
    "    cluster_count[time] = [int(x)/n_bins for x in cluster_count['bin']]\n",
    "    cluster_count['cond_bin'] = [\"{}_{}\".format(x.split(\"_\")[1],x.split(\"_\")[2]) for x in cluster_count.index]\n",
    "    cluster_count = cluster_count.merge(pd.DataFrame(value_count['binned_dpt_Condition']),left_on = \"cond_bin\", right_index = True, how = 'outer')\n",
    "    cluster_count['cond_time'] = [\"{}_{}\".format(x, cluster_count[time][i]) for i,x in enumerate(cluster_count[by_cond])]\n",
    "    cluster_count[time] = cluster_count[time].astype('float')\n",
    "    cluster_count.sort_values(by = time, inplace = True)\n",
    "    \n",
    "    #get bins for each condition\n",
    "    cluster_count['cluster_cond'] = cluster_count['cluster'].astype(str) + \"_\" + cluster_count[by_cond].astype(str)#[\"{}_{}\".format(x,cluster_count[by_cond][i]) for i,x in enumerate(cluster_count['cluster'])]\n",
    "    \n",
    "    cur_df = pd.pivot(cluster_count, values='percentage', index='cluster_cond',columns = 'bin')\n",
    "    row_sum = np.nansum(cur_df,axis = 0)\n",
    "    cur_df = pd.DataFrame(row_sum,list(cur_df.columns))\n",
    "    cur_df.columns = ['bin_sum']\n",
    "    cluster_count = cluster_count.merge(cur_df, left_on = 'bin',right_index = True, how = 'outer')\n",
    "    spec_cond = dict()\n",
    "    for cond in pd.unique(ad_obs[by_cond]):\n",
    "        cur_df = cluster_count[cluster_count[by_cond] == cond]\n",
    "        \n",
    "        cur_df = pd.pivot(cur_df, values='percentage', index='cluster',columns = 'bin')\n",
    "        row_sum = np.nansum(cur_df,axis = 0)\n",
    "        cur_df = pd.DataFrame(row_sum,list(cur_df.columns))\n",
    "        cur_df.columns = ['{}_bin_sum'.format(cond)]\n",
    "        cluster_count = cluster_count.merge(cur_df, left_on = 'bin',right_index = True, how = 'outer')\n",
    "        \n",
    "        cluster_count['{}_perc'.format(cond)] = [ cluster_count['percentage'][i]/x for i,x in enumerate(cluster_count['{}_bin_sum'.format(cond)])]\n",
    "        cluster_count['bin_perc'] = [ cluster_count['percentage'][i]/x for i,x in enumerate(cluster_count['bin_sum'])]\n",
    "\n",
    "        new_df = pd.pivot(cluster_count, values = 'bin_perc',index = 'cond_time', columns = 'cluster')\n",
    "        new_df = new_df.rename_axis(None)\n",
    "        new_df['bin'] = [float(x.split(\"_\")[1]) for x in new_df.index]\n",
    "        new_df[by_cond] = [str(x.split(\"_\")[0]) for x in new_df.index]\n",
    "        spec_cond[cond] = new_df[new_df[by_cond].isin([cond])]\n",
    "\n",
    "        #sort columns\n",
    "        spec_cond[cond] = spec_cond[cond][[x for x in adata.obs['clusters'].cat.categories if x in spec_cond[cond].columns] + ['bin']] \n",
    "\n",
    "        spec_cond[cond].sort_values(by = 'bin', inplace = True)\n",
    "       \n",
    "    #fill in NA rows df_HD that are in dp_FPD and not in df_HD\n",
    "    for set_cond in list(zip(list(pd.unique(ad_obs[by_cond])),list(pd.unique(ad_obs[by_cond]))[::-1])):\n",
    "        \n",
    "        for b in list(spec_cond[set_cond[0]]['bin'][~spec_cond[set_cond[0]]['bin'].isin(spec_cond[set_cond[1]]['bin'])]):\n",
    "            new_entry = {\"{}\".format(x) : float('NaN') for x in spec_cond[set_cond[1]].columns[:-1] }\n",
    "            new_entry['bin'] = float(b)\n",
    "            spec_cond[set_cond[1]] = spec_cond[set_cond[1]].append(new_entry, ignore_index=True)\n",
    "\n",
    "\n",
    "        spec_cond[set_cond[1]].sort_values(by = 'bin', inplace = True)\n",
    "    \n",
    "    return spec_cond,value_count"
   ]
  },
  {
   "cell_type": "code",
   "execution_count": 26,
   "metadata": {},
   "outputs": [],
   "source": [
    "def df_pseudotime_total(adata,time = 'dpt_pseudotime',n_bins=50,by_cond = 'Condition', val_counts = None):\n",
    "    # creates data frames for each condition that includes percentages of cluster within a given bin across pseudotime\n",
    "    # returns dataframes \n",
    "    ad_obs = adata.obs.copy()\n",
    "    ad_obs.sort_values(by = time, inplace = True)\n",
    "\n",
    "    #get total counts of cells for each Condition for ALL v3 cells\n",
    "    if val_counts is None:\n",
    "        val_counts = ad_obs[by_cond].value_counts()\n",
    "    #bin the pseudotime data into discrete bins\n",
    "    bins = np.linspace(0, 1, n_bins)\n",
    "    binned_pseudo = np.digitize(ad_obs[time],bins)\n",
    "    \n",
    "    #get percentage of binned pseudotime in a dataframe for ease of plotting\n",
    "    ad_obs['binned_dpt'] = binned_pseudo\n",
    "    ad_obs['binned_dpt_Condition'] = ad_obs[by_cond].astype(str) + \"_\" + ad_obs['binned_dpt'].astype(str) #[\"{}_{}\".format(cond,ad_obs['binned_dpt'][i]) for i,cond in enumerate(ad_obs[by_cond])]\n",
    "    value_count = pd.DataFrame(ad_obs['binned_dpt_Condition'].value_counts())\n",
    "    value_count[by_cond] = [x.split(\"_\")[0] for x in value_count.index]\n",
    "    value_count['bin'] = [x.split(\"_\")[1] for x in value_count.index]\n",
    "    value_count['total'] = [sum(val_counts) for x in value_count[by_cond]]\n",
    "    value_count['percentage'] = (value_count['binned_dpt_Condition']/value_count['total'])*100\n",
    "    value_count[time] = [int(x)/n_bins for x in value_count['bin']]\n",
    "    \n",
    "    #get percentage of binned pseudotime with cluster info\n",
    "    ad_obs['binned_dpt_cluster'] = ad_obs['cluster_cond'].astype(str) + \"_\" + ad_obs['binned_dpt'].astype(str)# [\"{}_{}\".format(cond,ad_obs['binned_dpt'][i]) for i,cond in enumerate(ad_obs['cluster_cond'])]\n",
    "    cluster_count = pd.DataFrame(ad_obs['binned_dpt_cluster'].value_counts())\n",
    "    cluster_count['cluster'] = [x.split(\"_\")[0] for x in cluster_count.index]\n",
    "    cluster_count[by_cond] = [x.split(\"_\")[1] for x in cluster_count.index]\n",
    "    cluster_count['bin'] = [x.split(\"_\")[2] for x in cluster_count.index]\n",
    "    cluster_count['total'] = [sum(val_counts) for x in cluster_count[by_cond]]\n",
    "    cluster_count['percentage'] = (cluster_count['binned_dpt_cluster']/cluster_count['total'])*100\n",
    "    cluster_count[time] = [int(x)/n_bins for x in cluster_count['bin']]\n",
    "    cluster_count['cond_bin'] = [\"{}_{}\".format(x.split(\"_\")[1],x.split(\"_\")[2]) for x in cluster_count.index]\n",
    "    cluster_count = cluster_count.merge(pd.DataFrame(value_count['binned_dpt_Condition']),left_on = \"cond_bin\", right_index = True, how = 'outer')\n",
    "    cluster_count['cond_time'] = [\"{}_{}\".format(x, cluster_count[time][i]) for i,x in enumerate(cluster_count[by_cond])]\n",
    "    cluster_count[time] = cluster_count[time].astype('float')\n",
    "    cluster_count.sort_values(by = time, inplace = True)\n",
    "    \n",
    "    #get bins for each condition\n",
    "    cluster_count['cluster_cond'] = cluster_count['cluster'].astype(str) + \"_\" + cluster_count[by_cond].astype(str)#[\"{}_{}\".format(x,cluster_count[by_cond][i]) for i,x in enumerate(cluster_count['cluster'])]\n",
    "    \n",
    "    cur_df = pd.pivot(cluster_count, values='percentage', index='cluster_cond',columns = 'bin')\n",
    "    row_sum = np.nansum(cur_df,axis = 0)\n",
    "    cur_df = pd.DataFrame(row_sum,list(cur_df.columns))\n",
    "    cur_df.columns = ['bin_sum']\n",
    "    cluster_count = cluster_count.merge(cur_df, left_on = 'bin',right_index = True, how = 'outer')\n",
    "    spec_cond = dict()\n",
    "    for cond in pd.unique(ad_obs[by_cond]):\n",
    "        cur_df = cluster_count[cluster_count[by_cond] == cond]\n",
    "        \n",
    "        cur_df = pd.pivot(cur_df, values='percentage', index='cluster',columns = 'bin')\n",
    "        row_sum = np.nansum(cur_df,axis = 0)\n",
    "        cur_df = pd.DataFrame(row_sum,list(cur_df.columns))\n",
    "        cur_df.columns = ['{}_bin_sum'.format(cond)]\n",
    "        cluster_count = cluster_count.merge(cur_df, left_on = 'bin',right_index = True, how = 'outer')\n",
    "        \n",
    "        cluster_count['{}_perc'.format(cond)] = [ cluster_count['percentage'][i]/x for i,x in enumerate(cluster_count['{}_bin_sum'.format(cond)])]\n",
    "        cluster_count['bin_perc'] = [ cluster_count['percentage'][i]/x for i,x in enumerate(cluster_count['bin_sum'])]\n",
    "\n",
    "        new_df = pd.pivot(cluster_count, values = 'bin_perc',index = 'cond_time', columns = 'cluster')\n",
    "        new_df = new_df.rename_axis(None)\n",
    "        new_df['bin'] = [float(x.split(\"_\")[1]) for x in new_df.index]\n",
    "        new_df[by_cond] = [str(x.split(\"_\")[0]) for x in new_df.index]\n",
    "        spec_cond[cond] = new_df[new_df[by_cond].isin([cond])]\n",
    "\n",
    "        #sort columns\n",
    "        spec_cond[cond] = spec_cond[cond][[x for x in adata.obs['clusters'].cat.categories if x in spec_cond[cond].columns] + ['bin']] \n",
    "\n",
    "        spec_cond[cond].sort_values(by = 'bin', inplace = True)\n",
    "       \n",
    "    #fill in NA rows df_HD that are in dp_FPD and not in df_HD\n",
    "    for set_cond in list(zip(list(pd.unique(ad_obs[by_cond])),list(pd.unique(ad_obs[by_cond]))[::-1])):\n",
    "        \n",
    "        for b in list(spec_cond[set_cond[0]]['bin'][~spec_cond[set_cond[0]]['bin'].isin(spec_cond[set_cond[1]]['bin'])]):\n",
    "            new_entry = {\"{}\".format(x) : float('NaN') for x in spec_cond[set_cond[1]].columns[:-1] }\n",
    "            new_entry['bin'] = float(b)\n",
    "            spec_cond[set_cond[1]] = spec_cond[set_cond[1]].append(new_entry, ignore_index=True)\n",
    "\n",
    "\n",
    "        spec_cond[set_cond[1]].sort_values(by = 'bin', inplace = True)\n",
    "    \n",
    "    return spec_cond,value_count"
   ]
  },
  {
   "cell_type": "code",
   "execution_count": 23,
   "metadata": {},
   "outputs": [],
   "source": [
    "def plot_pseudotime(adata,df_sets,value_count, save = None):\n",
    "    \n",
    "    fig,(ax,bot,point) = plt.subplots(3,1,sharex = True, figsize = (15,10))\n",
    "\n",
    "    df_sets['FPD'].plot(x = 'bin',kind = 'bar', stacked = True,title = '', color = darkened_pal, ax=ax,use_index = False  ,rot = 0, grid = False)\n",
    "    #ylabs = [0,20,40,60,80,100]\n",
    "    #ax.set_yticklabels(ylabs)\n",
    "\n",
    "    plt.text(-0.062,-0.42,'Percentage of Cell Type',transform=ax.transAxes,rotation = 90,va = 'bottom')\n",
    "\n",
    "    df_sets['HD'].plot(x = 'bin',kind = 'bar', stacked = True,title = '', color = darkened_pal, ax=bot,use_index = False,rot = 0, grid = False,sharex = True)\n",
    "    #bot.set_yticklabels(ylabs)\n",
    "    sns.pointplot(data = value_count, y = 'percentage', x = time_call, hue = condition, palette = color_dict, alpha = 0.6, marker = \"o\", ax = point)\n",
    "\n",
    "    import matplotlib.ticker as mticker\n",
    "    import matplotlib.patches as mpatches\n",
    "\n",
    "    #remove legends\n",
    "    ax.get_legend().set_visible(False)\n",
    "    bot.get_legend().set_visible(False)\n",
    "    #adjust x ticks and labels\n",
    "    bin_s = (df_sets['FPD'].bin,df_sets['HD'].bin)[len(df_sets['FPD'].bin) < len(df_sets['HD'].bin)] #choose largest binned data\n",
    "    c_range = range(0,len(bin_s))\n",
    "    ax.set_xlim(min(c_range)-1,max(c_range)+1) #see more on the high and low x axis\n",
    "    middle_acc = list(np.where(bin_s.isin([0.2,0.4,0.6,0.8]))[0])\n",
    "    access_list = [0] + middle_acc + [c_range[-1]]\n",
    "    x_tick_labs = list(map(list(bin_s).__getitem__, access_list))\n",
    "    x_tick_labs[0] = 0\n",
    "    x_tick_labs[-1] = 1\n",
    "    plt.xticks(access_list,x_tick_labs)\n",
    "\n",
    "\n",
    "    ax.set_ylim(0,1)\n",
    "    bot.set_ylim(0,1)\n",
    "    #set labels for axis\n",
    "    ax.set(xlabel='', ylabel='FPD')\n",
    "    bot.set(xlabel='', ylabel='HD')\n",
    "    point.set(xlabel = 'Pseudotime', ylabel = 'Percentage of Total Cells\\nBy Condition')\n",
    "\n",
    "    #draw legends\n",
    "    FPD_HD_lines = [mlines.Line2D([], [], color=color_dict[x], label='{}'.format(x)) for x in pd.unique(value_count[condition])[::-1]]\n",
    "    cluster_lines = [mpatches.Patch(color=darkened_pal[x],  label='{}'.format(x)) for x in adata.obs['clusters'].cat.categories if x in df_sets['FPD'].columns]\n",
    "    #remove Condition legein\n",
    "    ax.get_legend().remove()\n",
    "    bot.get_legend().remove()\n",
    "    point.get_legend().remove()\n",
    "    #legends\n",
    "    legend_start_pos = 2.4\n",
    "    lgd = plt.legend(handles = cluster_lines,bbox_to_anchor=(1, legend_start_pos), loc=2)\n",
    "    plt.gca().add_artist(lgd)\n",
    "    plt.legend(handles = FPD_HD_lines,bbox_to_anchor=(1.0, legend_start_pos-1.4), loc=2)\n",
    "\n",
    "    #adjust space between plots\n",
    "    plt.subplots_adjust(wspace=0, hspace=0.07)\n",
    "    if (save != None) and (isinstance(save,str)):\n",
    "        #save the figure\n",
    "        fig.savefig(fname = save,format = 'pdf',bbox_inches='tight')\n",
    "        return None\n",
    "    else:\n",
    "        return fig\n"
   ]
  },
  {
   "cell_type": "code",
   "execution_count": 28,
   "metadata": {},
   "outputs": [],
   "source": [
    "adata_ES = adata[adata.obs['clusters'].isin(clusters_of_interest)]"
   ]
  },
  {
   "cell_type": "code",
   "execution_count": null,
   "metadata": {},
   "outputs": [],
   "source": [
    "#get counts\n",
    "val_counts = adata.obs[condition].value_counts() #overall counts for all cells per condition in the whole object\n",
    "#val_counts = None #count just for the cells in the object that is given"
   ]
  },
  {
   "cell_type": "code",
   "execution_count": 29,
   "metadata": {},
   "outputs": [],
   "source": [
    "#use diffusion pseudotime for plotting\n",
    "time_call = \"dpt_pseudotime\"\n",
    "df_sets,value_count = df_pseudotime(adata_ES, time = time_call, n_bins=50,by_cond = condition, val_counts=val_counts)"
   ]
  },
  {
   "cell_type": "code",
   "execution_count": null,
   "metadata": {},
   "outputs": [],
   "source": []
  },
  {
   "cell_type": "code",
   "execution_count": 30,
   "metadata": {},
   "outputs": [
    {
     "data": {
      "image/png": "[encoded data removed]",
      "text/plain": [
       "<Figure size 1080x720 with 3 Axes>"
      ]
     },
     "metadata": {
      "needs_background": "light"
     },
     "output_type": "display_data"
    }
   ],
   "source": [
    "#get path to output directory\n",
    "path_to_output = os.path.join(os.getcwd(),os.path.dirname(pdf_out))\n",
    "#change directory to output directory\n",
    "os.chdir(path_to_output)\n",
    "#get file name for output file\n",
    "file_name_out = os.path.basename(pdf_out)\n",
    "#save plot to output file\n",
    "plot_pseudotime(adata_ES,df_sets,value_count, save = file_name_out)"
   ]
  },
  {
   "cell_type": "code",
   "execution_count": null,
   "metadata": {},
   "outputs": [],
   "source": [
    "#save data\n",
    "\n",
    "merged_DF = df_sets['HD'].merge(df_sets['FPD'], on = 'bin', suffixes = ['_HD','_FPD'])\n",
    "merged_DF = merged_DF[[x for x in list(merged_DF.columns) if x != 'bin'] + ['bin']]\n",
    "div_size = 0.01\n",
    "#add a divider\n",
    "merged_DF.insert(loc=len(clusters_of_interest), column='HD', value=[float(div_size) for _ in range(merged_DF.shape[0])])\n",
    "merged_DF.insert(loc=len(clusters_of_interest)+1, column='FPD', value=[float(div_size) for _ in range(merged_DF.shape[0])])\n",
    "merged_DF.to_csv(\"pseudotime_bar_{}_table.tsv\".format(time_call),sep = \"\\t\")"
   ]
  },
  {
   "cell_type": "markdown",
   "metadata": {},
   "source": [
    "### Make additional plots for other pseudotimes"
   ]
  },
  {
   "cell_type": "code",
   "execution_count": null,
   "metadata": {},
   "outputs": [],
   "source": [
    "\n",
    "time_call = \"latent_time\"\n",
    "df_sets,value_count = df_pseudotime(adata_ES, time = time_call, n_bins=50,by_cond = condition, val_counts=val_counts)\n",
    "#save to output file\n",
    "file_name_out = \"bar_pseudotime_{}_lineplot.pdf\".format(time_call)\n",
    "plot_pseudotime(adata_ES,df_sets,value_count, save = file_name_out)"
   ]
  },
  {
   "cell_type": "code",
   "execution_count": null,
   "metadata": {},
   "outputs": [],
   "source": [
    "#save data\n",
    "\n",
    "merged_DF = df_sets['HD'].merge(df_sets['FPD'], on = 'bin', suffixes = ['_HD','_FPD'])\n",
    "merged_DF = merged_DF[[x for x in list(merged_DF.columns) if x != 'bin'] + ['bin']]\n",
    "div_size = 0.01\n",
    "#add a divider\n",
    "merged_DF.insert(loc=len(clusters_of_interest), column='HD', value=[float(div_size) for _ in range(merged_DF.shape[0])])\n",
    "merged_DF.insert(loc=len(clusters_of_interest)+1, column='FPD', value=[float(div_size) for _ in range(merged_DF.shape[0])])\n",
    "merged_DF.to_csv(\"pseudotime_bar_{}_table.tsv\".format(time_call),sep = \"\\t\")"
   ]
  },
  {
   "cell_type": "code",
   "execution_count": null,
   "metadata": {},
   "outputs": [],
   "source": [
    "time_call = \"velocity_pseudotime\"\n",
    "df_sets,value_count = df_pseudotime(adata_ES, time = time_call, n_bins=50,by_cond = condition, val_counts=val_counts)\n",
    "#save to output file\n",
    "file_name_out = \"bar_pseudotime_{}_lineplot.pdf\".format(time_call)\n",
    "plot_pseudotime(adata_ES,df_sets,value_count, save = file_name_out)"
   ]
  },
  {
   "cell_type": "code",
   "execution_count": null,
   "metadata": {},
   "outputs": [],
   "source": [
    "#save data\n",
    "\n",
    "merged_DF = df_sets['HD'].merge(df_sets['FPD'], on = 'bin', suffixes = ['_HD','_FPD'])\n",
    "merged_DF = merged_DF[[x for x in list(merged_DF.columns) if x != 'bin'] + ['bin']]\n",
    "div_size = 0.01\n",
    "#add a divider\n",
    "merged_DF.insert(loc=len(clusters_of_interest), column='HD', value=[float(div_size) for _ in range(merged_DF.shape[0])])\n",
    "merged_DF.insert(loc=len(clusters_of_interest)+1, column='FPD', value=[float(div_size) for _ in range(merged_DF.shape[0])])\n",
    "merged_DF.to_csv(\"pseudotime_bar_{}_table.tsv\".format(time_call),sep = \"\\t\")"
   ]
  }
 ],
 "metadata": {
  "kernelspec": {
   "display_name": "scvelo_pro",
   "language": "python",
   "name": "scvelo_pro"
  },
  "language_info": {
   "codemirror_mode": {
    "name": "ipython",
    "version": 3
   },
   "file_extension": ".py",
   "mimetype": "text/x-python",
   "name": "python",
   "nbconvert_exporter": "python",
   "pygments_lexer": "ipython3",
   "version": "3.8.5"
  }
 },
 "nbformat": 4,
 "nbformat_minor": 4
}
